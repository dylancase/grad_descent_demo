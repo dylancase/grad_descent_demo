{
 "cells": [
  {
   "cell_type": "code",
   "execution_count": 370,
   "metadata": {},
   "outputs": [],
   "source": [
    "import numpy as np\n",
    "import matplotlib.pyplot as plt\n",
    "from mystery_func import get_mystery_function, get_actual_minimum"
   ]
  },
  {
   "cell_type": "code",
   "execution_count": 371,
   "metadata": {},
   "outputs": [
    {
     "name": "stdout",
     "output_type": "stream",
     "text": [
      "The autoreload extension is already loaded. To reload it, use:\n",
      "  %reload_ext autoreload\n"
     ]
    }
   ],
   "source": [
    "%load_ext autoreload\n",
    "%autoreload 2"
   ]
  },
  {
   "cell_type": "code",
   "execution_count": null,
   "metadata": {},
   "outputs": [],
   "source": []
  },
  {
   "cell_type": "code",
   "execution_count": 372,
   "metadata": {},
   "outputs": [],
   "source": [
    "mystery_func, _ = get_mystery_function()"
   ]
  },
  {
   "cell_type": "markdown",
   "metadata": {},
   "source": [
    "We want to minimize our mystery function, but we can't graph it. So how do we do this?"
   ]
  },
  {
   "cell_type": "markdown",
   "metadata": {},
   "source": [
    "Let's try some random values"
   ]
  },
  {
   "cell_type": "code",
   "execution_count": 373,
   "metadata": {},
   "outputs": [
    {
     "name": "stdout",
     "output_type": "stream",
     "text": [
      "Enter a guess: 50\n",
      "3.827300e+04\n",
      "Enter a guess: -50\n",
      "3.586673e+06\n",
      "Enter a guess: 1000\n",
      "2.546060e+08\n",
      "Enter a guess: 80\n",
      "1.008530e+05\n",
      "Enter a guess: 25\n",
      "3.834980e+05\n",
      "Enter a guess: 33\n",
      "2.337220e+05\n",
      "Enter a guess: 19\n",
      "5.201060e+05\n",
      "Enter a guess: 40\n",
      "1.330130e+05\n",
      "Enter a guess: 67\n",
      "9.866000e+03\n",
      "Enter a guess: 88\n",
      "2.053970e+05\n"
     ]
    },
    {
     "data": {
      "text/plain": [
       "9866.0"
      ]
     },
     "execution_count": 373,
     "metadata": {},
     "output_type": "execute_result"
    }
   ],
   "source": [
    "guesses = []\n",
    "our_minimum = None\n",
    "for _ in range(10):\n",
    "    x = float(input(\"Enter a guess: \"))\n",
    "    current_val = mystery_func(x)\n",
    "    print(f'{current_val:e}')\n",
    "    guesses.append(x)\n",
    "    if not our_minimum or current_val < our_minimum:\n",
    "        our_minimum = current_val\n",
    "our_minimum"
   ]
  },
  {
   "cell_type": "markdown",
   "metadata": {},
   "source": [
    "Let's see how we did:"
   ]
  },
  {
   "cell_type": "code",
   "execution_count": 374,
   "metadata": {},
   "outputs": [
    {
     "data": {
      "text/plain": [
       "[<matplotlib.lines.Line2D at 0x102872f5d0>]"
      ]
     },
     "execution_count": 374,
     "metadata": {},
     "output_type": "execute_result"
    },
    {
     "data": {
      "image/png": "[encoded data removed]",
      "text/plain": [
       "<Figure size 720x360 with 1 Axes>"
      ]
     },
     "metadata": {
      "needs_background": "light"
     },
     "output_type": "display_data"
    }
   ],
   "source": [
    "fig, ax = plt.subplots(figsize = (10, 5))\n",
    "ax.scatter(guesses, [mystery_func(guess) for guess in guesses], color = 'r')\n",
    "x = np.linspace(np.min(guesses), np.max(guesses))\n",
    "ax.plot(x, mystery_func(x))"
   ]
  },
  {
   "cell_type": "code",
   "execution_count": 375,
   "metadata": {},
   "outputs": [
    {
     "data": {
      "text/plain": [
       "9866.0"
      ]
     },
     "execution_count": 375,
     "metadata": {},
     "output_type": "execute_result"
    }
   ],
   "source": [
    "our_minimum"
   ]
  },
  {
   "cell_type": "code",
   "execution_count": 377,
   "metadata": {},
   "outputs": [
    {
     "name": "stdout",
     "output_type": "stream",
     "text": [
      "Minimum of 7.74e+02 at x = 61.39\n"
     ]
    }
   ],
   "source": [
    "actual_min, x_min = get_actual_minimum(mystery_func)"
   ]
  },
  {
   "cell_type": "code",
   "execution_count": 385,
   "metadata": {},
   "outputs": [
    {
     "data": {
      "text/plain": [
       "(-226.1833910034601, 100773.81660899654)"
      ]
     },
     "execution_count": 385,
     "metadata": {},
     "output_type": "execute_result"
    },
    {
     "data": {
      "image/png": "[encoded data removed]",
      "text/plain": [
       "<Figure size 720x360 with 1 Axes>"
      ]
     },
     "metadata": {
      "needs_background": "light"
     },
     "output_type": "display_data"
    }
   ],
   "source": [
    "fig, ax = plt.subplots(figsize = (10, 5))\n",
    "ax.scatter(guesses, [mystery_func(guess) for guess in guesses], color = 'r')\n",
    "x = np.linspace(np.min(guesses), np.max(guesses), 10000)\n",
    "ax.plot(x, mystery_func(x))\n",
    "ax.set_xlim(x_min - 50, x_min + 50)\n",
    "ax.set_ylim(actual_min-1000, actual_min + 100000)"
   ]
  },
  {
   "cell_type": "markdown",
   "metadata": {},
   "source": [
    "Maybe we can have our computer check a bunch of values to find the minimum"
   ]
  },
  {
   "cell_type": "code",
   "execution_count": 409,
   "metadata": {},
   "outputs": [],
   "source": [
    "def random_search(mystery_func, n_guesses):\n",
    "    guesses = []\n",
    "    best_guess = None\n",
    "    for _ in range(n_guesses):\n",
    "        current_guess = np.random.randint(-1e4, 1e4)\n",
    "        guesses.append(current_guess)\n",
    "        current_result = mystery_func(current_guess)\n",
    "        if not best_guess or current_result < best_result:\n",
    "            best_guess, best_result = current_guess, current_result\n",
    "    \n",
    "    print(f\"Our minimum was {best_result} from our guess x = {best_guess}\")\n",
    "    return guesses"
   ]
  },
  {
   "cell_type": "code",
   "execution_count": 413,
   "metadata": {},
   "outputs": [
    {
     "name": "stdout",
     "output_type": "stream",
     "text": [
      "Our minimum was 13397 from our guess x = 68\n"
     ]
    }
   ],
   "source": [
    "guesses = random_search(mystery_func, 1000)"
   ]
  },
  {
   "cell_type": "code",
   "execution_count": 414,
   "metadata": {},
   "outputs": [
    {
     "name": "stdout",
     "output_type": "stream",
     "text": [
      "Minimum of 7.74e+02 at x = 61.39\n"
     ]
    },
    {
     "data": {
      "text/plain": [
       "(773.8166089965399, 61.391003446301916)"
      ]
     },
     "execution_count": 414,
     "metadata": {},
     "output_type": "execute_result"
    }
   ],
   "source": [
    "get_actual_minimum(mystery_func)"
   ]
  },
  {
   "cell_type": "code",
   "execution_count": 415,
   "metadata": {},
   "outputs": [
    {
     "data": {
      "text/plain": [
       "[<matplotlib.lines.Line2D at 0x1027d8aa90>]"
      ]
     },
     "execution_count": 415,
     "metadata": {},
     "output_type": "execute_result"
    },
    {
     "data": {
      "image/png": "[encoded data removed]",
      "text/plain": [
       "<Figure size 720x360 with 1 Axes>"
      ]
     },
     "metadata": {
      "needs_background": "light"
     },
     "output_type": "display_data"
    }
   ],
   "source": [
    "fig, ax = plt.subplots(figsize = (10, 5))\n",
    "ax.scatter(guesses, [mystery_func(guess) for guess in guesses], color = 'r')\n",
    "x = np.linspace(np.min(guesses), np.max(guesses))\n",
    "ax.plot(x, mystery_func(x))"
   ]
  },
  {
   "cell_type": "code",
   "execution_count": 419,
   "metadata": {},
   "outputs": [
    {
     "data": {
      "text/plain": [
       "(-9226.18339100346, 100773.81660899654)"
      ]
     },
     "execution_count": 419,
     "metadata": {},
     "output_type": "execute_result"
    },
    {
     "data": {
      "image/png": "[encoded data removed]",
      "text/plain": [
       "<Figure size 720x360 with 1 Axes>"
      ]
     },
     "metadata": {
      "needs_background": "light"
     },
     "output_type": "display_data"
    }
   ],
   "source": [
    "fig, ax = plt.subplots(figsize = (10, 5))\n",
    "ax.scatter(guesses, [mystery_func(guess) for guess in guesses], color = 'r')\n",
    "x = np.linspace(np.min(guesses), np.max(guesses), 100000)\n",
    "ax.plot(x, mystery_func(x))\n",
    "ax.set_xlim(x_min - 20, x_min + 20)\n",
    "ax.set_ylim(actual_min-10000, actual_min + 100000)"
   ]
  },
  {
   "cell_type": "markdown",
   "metadata": {},
   "source": [
    "Okay, this isn't getting us very far, but we actually have a secret weapon I didn't mention, we can also evaluate the derivative of our mystery function. How about we try a random value and evaluate the function and the derivative at that point.\n",
    "\n",
    "Let's try a new mystery function"
   ]
  },
  {
   "cell_type": "code",
   "execution_count": 420,
   "metadata": {},
   "outputs": [],
   "source": [
    "mystery_func, mystery_func_prime = get_mystery_function()"
   ]
  },
  {
   "cell_type": "code",
   "execution_count": 421,
   "metadata": {},
   "outputs": [
    {
     "name": "stdout",
     "output_type": "stream",
     "text": [
      "Enter a guess: 100\n",
      "Current value: 6.126330e+06, current derivative: -4.454300e+04\n",
      "Enter a guess: 10000\n",
      "Current value: 7.503961e+09, current derivative: 1.559257e+06\n",
      "Enter a guess: 3000\n",
      "Current value: 5.581616e+08, current derivative: 4.252570e+05\n",
      "Enter a guess: 1000\n",
      "Current value: 3.164763e+07, current derivative: 1.012570e+05\n",
      "Enter a guess: 500\n",
      "Current value: 1.269130e+06, current derivative: 2.025700e+04\n",
      "Enter a guess: 200\n",
      "Current value: 2.482030e+06, current derivative: -2.834300e+04\n",
      "Enter a guess: 350\n",
      "Current value: 5.308000e+04, current derivative: -4.043000e+03\n",
      "Enter a guess: 400\n",
      "Current value: 5.343000e+04, current derivative: 4.057000e+03\n",
      "Enter a guess: 375\n",
      "Current value: 2.630000e+03, current derivative: 7.000000e+00\n",
      "Enter a guess: 374\n",
      "Current value: 2.704000e+03, current derivative: -1.550000e+02\n"
     ]
    },
    {
     "data": {
      "text/plain": [
       "2630"
      ]
     },
     "execution_count": 421,
     "metadata": {},
     "output_type": "execute_result"
    }
   ],
   "source": [
    "guesses = []\n",
    "our_minimum = None\n",
    "for _ in range(10):\n",
    "    x = int(input(\"Enter a guess: \"))\n",
    "    current_val = mystery_func(x)\n",
    "    current_derivative = mystery_func_prime(x)\n",
    "    print(f'Current value: {current_val:e}, current derivative: {current_derivative:e}')\n",
    "    guesses.append(x)\n",
    "    if not our_minimum or current_val < our_minimum:\n",
    "        our_minimum = current_val\n",
    "our_minimum"
   ]
  },
  {
   "cell_type": "code",
   "execution_count": 422,
   "metadata": {},
   "outputs": [
    {
     "data": {
      "text/plain": [
       "[<matplotlib.lines.Line2D at 0x10288ad250>]"
      ]
     },
     "execution_count": 422,
     "metadata": {},
     "output_type": "execute_result"
    },
    {
     "data": {
      "image/png": "[encoded data removed]",
      "text/plain": [
       "<Figure size 720x360 with 1 Axes>"
      ]
     },
     "metadata": {
      "needs_background": "light"
     },
     "output_type": "display_data"
    }
   ],
   "source": [
    "fig, ax = plt.subplots(figsize = (10, 5))\n",
    "ax.scatter(guesses, [mystery_func(guess) for guess in guesses])\n",
    "x = np.linspace(np.min(guesses), np.max(guesses))\n",
    "ax.plot(x, mystery_func(x))"
   ]
  },
  {
   "cell_type": "code",
   "execution_count": 322,
   "metadata": {},
   "outputs": [
    {
     "data": {
      "text/plain": [
       "(1022119, 62)"
      ]
     },
     "execution_count": 322,
     "metadata": {},
     "output_type": "execute_result"
    }
   ],
   "source": [
    "val = 30057\n",
    "mystery_func(val), mystery_func_prime(val)"
   ]
  },
  {
   "cell_type": "markdown",
   "metadata": {},
   "source": [
    "This is really getting us somewhere, we can definitely use these results to find the minimum.  \n",
    "\n",
    "So now can we functionalize this process? Make it automatic?"
   ]
  },
  {
   "cell_type": "code",
   "execution_count": 106,
   "metadata": {},
   "outputs": [],
   "source": [
    "def find_minimum(initial_guess, n_iterations, step_size):\n",
    "    current_location = initial_guess\n",
    "    for _ in range(n_iterations):\n",
    "        current_val = mystery_func(current_location)\n",
    "        current_slope = mystery_func_prime(current_location)\n",
    "        if current_slope < 0:\n",
    "            current_location += step_size\n",
    "        elif current_slope > 0:\n",
    "            current_location -= step_size\n",
    "        else:\n",
    "            break\n",
    "    return current_location"
   ]
  },
  {
   "cell_type": "markdown",
   "metadata": {},
   "source": []
  },
  {
   "cell_type": "code",
   "execution_count": 333,
   "metadata": {},
   "outputs": [
    {
     "data": {
      "text/plain": [
       "29966"
      ]
     },
     "execution_count": 333,
     "metadata": {},
     "output_type": "execute_result"
    }
   ],
   "source": [
    "initial_guess = np.random.randint(-5000, 5000)\n",
    "find_minimum(initial_guess, 1000, 100)"
   ]
  },
  {
   "cell_type": "code",
   "execution_count": 329,
   "metadata": {},
   "outputs": [
    {
     "name": "stdout",
     "output_type": "stream",
     "text": [
      "Minimum of 1.02e+06 at x = 30056.84\n"
     ]
    },
    {
     "data": {
      "text/plain": [
       "(1022114.0969387995, 30056.841847773165)"
      ]
     },
     "execution_count": 329,
     "metadata": {},
     "output_type": "execute_result"
    }
   ],
   "source": [
    "get_actual_minimum(mystery_func)"
   ]
  },
  {
   "cell_type": "markdown",
   "metadata": {},
   "source": [
    "This is getting really good, but we're still limited in precision by the step size. How can we take large enough steps that we get close to the minimum and then smaller steps as we get closer?"
   ]
  },
  {
   "cell_type": "code",
   "execution_count": 90,
   "metadata": {},
   "outputs": [],
   "source": [
    "y = 2*x**2 + 1"
   ]
  },
  {
   "cell_type": "code",
   "execution_count": 23,
   "metadata": {},
   "outputs": [],
   "source": [
    "yprime = y.diff(x)"
   ]
  },
  {
   "cell_type": "code",
   "execution_count": 30,
   "metadata": {},
   "outputs": [
    {
     "data": {
      "text/latex": [
       "$\\displaystyle 4 x$"
      ],
      "text/plain": [
       "4*x"
      ]
     },
     "execution_count": 30,
     "metadata": {},
     "output_type": "execute_result"
    }
   ],
   "source": [
    "yprime"
   ]
  },
  {
   "cell_type": "code",
   "execution_count": 29,
   "metadata": {},
   "outputs": [
    {
     "data": {
      "text/plain": [
       "20"
      ]
     },
     "execution_count": 29,
     "metadata": {},
     "output_type": "execute_result"
    }
   ],
   "source": [
    "lambdify(x, yprime)(5)"
   ]
  },
  {
   "cell_type": "code",
   "execution_count": null,
   "metadata": {},
   "outputs": [],
   "source": [
    "plt.plot"
   ]
  },
  {
   "cell_type": "code",
   "execution_count": 43,
   "metadata": {},
   "outputs": [
    {
     "data": {
      "text/plain": [
       "398.4398439843985"
      ]
     },
     "execution_count": 43,
     "metadata": {},
     "output_type": "execute_result"
    },
    {
     "data": {
      "image/png": "[encoded data removed]",
      "text/plain": [
       "<Figure size 720x432 with 1 Axes>"
      ]
     },
     "metadata": {
      "needs_background": "light"
     },
     "output_type": "display_data"
    }
   ],
   "source": [
    "x = np.linspace(-1000, 2000, 10000)\n",
    "plt.figure(figsize = (10,6))\n",
    "plt.plot(x, mystery_func(x))\n",
    "x[np.argmin(mystery_func(x))]"
   ]
  },
  {
   "cell_type": "code",
   "execution_count": null,
   "metadata": {},
   "outputs": [],
   "source": []
  }
 ],
 "metadata": {
  "kernelspec": {
   "display_name": "Python 3",
   "language": "python",
   "name": "python3"
  },
  "language_info": {
   "codemirror_mode": {
    "name": "ipython",
    "version": 3
   },
   "file_extension": ".py",
   "mimetype": "text/x-python",
   "name": "python",
   "nbconvert_exporter": "python",
   "pygments_lexer": "ipython3",
   "version": "3.7.6"
  }
 },
 "nbformat": 4,
 "nbformat_minor": 4
}
