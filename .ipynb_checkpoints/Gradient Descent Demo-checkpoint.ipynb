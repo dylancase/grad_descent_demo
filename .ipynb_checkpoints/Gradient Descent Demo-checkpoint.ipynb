{
 "cells": [
  {
   "cell_type": "code",
   "execution_count": 471,
   "metadata": {},
   "outputs": [],
   "source": [
    "import numpy as np\n",
    "import matplotlib.pyplot as plt\n",
    "from mystery_func import get_mystery_function, get_actual_minimum, try_guesses, get_complicated_mystery_function"
   ]
  },
  {
   "cell_type": "code",
   "execution_count": 371,
   "metadata": {},
   "outputs": [
    {
     "name": "stdout",
     "output_type": "stream",
     "text": [
      "The autoreload extension is already loaded. To reload it, use:\n",
      "  %reload_ext autoreload\n"
     ]
    }
   ],
   "source": [
    "%load_ext autoreload\n",
    "%autoreload 2"
   ]
  },
  {
   "cell_type": "code",
   "execution_count": null,
   "metadata": {},
   "outputs": [],
   "source": []
  },
  {
   "cell_type": "code",
   "execution_count": 441,
   "metadata": {},
   "outputs": [],
   "source": [
    "mystery_func, _ = get_mystery_function()"
   ]
  },
  {
   "cell_type": "markdown",
   "metadata": {},
   "source": [
    "We want to minimize our mystery function, but we can't graph it. So how do we do this?"
   ]
  },
  {
   "cell_type": "markdown",
   "metadata": {},
   "source": [
    "Let's try some random values"
   ]
  },
  {
   "cell_type": "code",
   "execution_count": 442,
   "metadata": {},
   "outputs": [
    {
     "name": "stdout",
     "output_type": "stream",
     "text": [
      "Enter a guess: 4\n",
      "2.354198e+07\n",
      "Enter a guess: 1\n",
      "2.362935e+07\n",
      "Enter a guess: 15\n",
      "2.322304e+07\n",
      "Enter a guess: 100\n",
      "2.083190e+07\n",
      "Enter a guess: 1000\n",
      "3.492503e+06\n",
      "Enter a guess: 100000\n",
      "8.710706e+10\n",
      "Enter a guess: 10000\n",
      "6.319985e+08\n",
      "Enter a guess: 8000\n",
      "3.663305e+08\n",
      "Enter a guess: 5000\n",
      "1.028285e+08\n",
      "Enter a guess: 2500\n",
      "6.993503e+06\n"
     ]
    }
   ],
   "source": [
    "our_minimum, guesses = try_guesses(mystery_func)"
   ]
  },
  {
   "cell_type": "markdown",
   "metadata": {},
   "source": [
    "Let's see how we did:"
   ]
  },
  {
   "cell_type": "code",
   "execution_count": 443,
   "metadata": {},
   "outputs": [
    {
     "data": {
      "text/plain": [
       "[<matplotlib.lines.Line2D at 0x102861c650>]"
      ]
     },
     "execution_count": 443,
     "metadata": {},
     "output_type": "execute_result"
    },
    {
     "data": {
      "image/png": "[encoded data removed]",
      "text/plain": [
       "<Figure size 720x360 with 1 Axes>"
      ]
     },
     "metadata": {
      "needs_background": "light"
     },
     "output_type": "display_data"
    }
   ],
   "source": [
    "fig, ax = plt.subplots(figsize = (10, 5))\n",
    "ax.scatter(guesses, [mystery_func(guess) for guess in guesses], color = 'r')\n",
    "x = np.linspace(np.min(guesses), np.max(guesses))\n",
    "ax.plot(x, mystery_func(x))"
   ]
  },
  {
   "cell_type": "code",
   "execution_count": 444,
   "metadata": {},
   "outputs": [
    {
     "data": {
      "text/plain": [
       "3492503.0"
      ]
     },
     "execution_count": 444,
     "metadata": {},
     "output_type": "execute_result"
    }
   ],
   "source": [
    "our_minimum"
   ]
  },
  {
   "cell_type": "code",
   "execution_count": 445,
   "metadata": {},
   "outputs": [
    {
     "name": "stdout",
     "output_type": "stream",
     "text": [
      "Minimum of 2.92e+04 at x = 1620.33\n"
     ]
    }
   ],
   "source": [
    "actual_min, x_min = get_actual_minimum(mystery_func)"
   ]
  },
  {
   "cell_type": "code",
   "execution_count": 446,
   "metadata": {},
   "outputs": [
    {
     "data": {
      "text/plain": [
       "(28182.000000000015, 129182.00000000001)"
      ]
     },
     "execution_count": 446,
     "metadata": {},
     "output_type": "execute_result"
    },
    {
     "data": {
      "image/png": "[encoded data removed]",
      "text/plain": [
       "<Figure size 720x360 with 1 Axes>"
      ]
     },
     "metadata": {
      "needs_background": "light"
     },
     "output_type": "display_data"
    }
   ],
   "source": [
    "fig, ax = plt.subplots(figsize = (10, 5))\n",
    "ax.scatter(guesses, [mystery_func(guess) for guess in guesses], color = 'r')\n",
    "x = np.linspace(np.min(guesses), np.max(guesses), 10000)\n",
    "ax.plot(x, mystery_func(x))\n",
    "ax.set_xlim(x_min - 50, x_min + 50)\n",
    "ax.set_ylim(actual_min-1000, actual_min + 100000)"
   ]
  },
  {
   "cell_type": "markdown",
   "metadata": {},
   "source": [
    "Maybe we can have our computer check a bunch of values to find the minimum"
   ]
  },
  {
   "cell_type": "code",
   "execution_count": 451,
   "metadata": {},
   "outputs": [],
   "source": [
    "def random_search(mystery_func, n_guesses):\n",
    "    guesses = []\n",
    "    best_guess = None\n",
    "    for _ in range(n_guesses):\n",
    "        current_guess = np.random.randint(-1e6, 1e6)\n",
    "        guesses.append(current_guess)\n",
    "        current_result = mystery_func(current_guess)\n",
    "        if not best_guess or current_result < best_result:\n",
    "            best_guess, best_result = current_guess, current_result\n",
    "    \n",
    "    print(f\"Our minimum was {best_result} from our guess x = {best_guess}\")\n",
    "    return guesses"
   ]
  },
  {
   "cell_type": "code",
   "execution_count": 452,
   "metadata": {},
   "outputs": [
    {
     "name": "stdout",
     "output_type": "stream",
     "text": [
      "Our minimum was 74126 from our guess x = 1691\n"
     ]
    }
   ],
   "source": [
    "guesses = random_search(mystery_func, 10000)"
   ]
  },
  {
   "cell_type": "code",
   "execution_count": 450,
   "metadata": {},
   "outputs": [
    {
     "name": "stdout",
     "output_type": "stream",
     "text": [
      "Minimum of 2.92e+04 at x = 1620.33\n"
     ]
    },
    {
     "data": {
      "text/plain": [
       "(29182.000000000015, 1620.3333345569856)"
      ]
     },
     "execution_count": 450,
     "metadata": {},
     "output_type": "execute_result"
    }
   ],
   "source": [
    "get_actual_minimum(mystery_func)"
   ]
  },
  {
   "cell_type": "code",
   "execution_count": 453,
   "metadata": {},
   "outputs": [
    {
     "data": {
      "text/plain": [
       "[<matplotlib.lines.Line2D at 0x102d8e37d0>]"
      ]
     },
     "execution_count": 453,
     "metadata": {},
     "output_type": "execute_result"
    },
    {
     "data": {
      "image/png": "[encoded data removed]",
      "text/plain": [
       "<Figure size 720x360 with 1 Axes>"
      ]
     },
     "metadata": {
      "needs_background": "light"
     },
     "output_type": "display_data"
    }
   ],
   "source": [
    "fig, ax = plt.subplots(figsize = (10, 5))\n",
    "ax.scatter(guesses, [mystery_func(guess) for guess in guesses], color = 'r')\n",
    "x = np.linspace(np.min(guesses), np.max(guesses))\n",
    "ax.plot(x, mystery_func(x))"
   ]
  },
  {
   "cell_type": "code",
   "execution_count": 459,
   "metadata": {},
   "outputs": [
    {
     "data": {
      "text/plain": [
       "(19182.000000000015, 129182.00000000001)"
      ]
     },
     "execution_count": 459,
     "metadata": {},
     "output_type": "execute_result"
    },
    {
     "data": {
      "image/png": "[encoded data removed]",
      "text/plain": [
       "<Figure size 720x360 with 1 Axes>"
      ]
     },
     "metadata": {
      "needs_background": "light"
     },
     "output_type": "display_data"
    }
   ],
   "source": [
    "fig, ax = plt.subplots(figsize = (10, 5))\n",
    "ax.scatter(guesses, [mystery_func(guess) for guess in guesses], color = 'r')\n",
    "x = np.linspace(np.min(guesses), np.max(guesses), 1000000)\n",
    "ax.plot(x, mystery_func(x))\n",
    "ax.set_xlim(x_min - 80, x_min + 80)\n",
    "ax.set_ylim(actual_min-10000, actual_min + 100000)"
   ]
  },
  {
   "cell_type": "markdown",
   "metadata": {},
   "source": [
    "Okay, this isn't getting us very far, but we actually have a secret weapon I didn't mention, we can also evaluate the derivative of our mystery function. How about we try a random value and evaluate the function and the derivative at that point.\n",
    "\n",
    "Let's try a new mystery function"
   ]
  },
  {
   "cell_type": "code",
   "execution_count": 460,
   "metadata": {},
   "outputs": [],
   "source": [
    "mystery_func, mystery_func_prime = get_mystery_function()"
   ]
  },
  {
   "cell_type": "code",
   "execution_count": 322,
   "metadata": {},
   "outputs": [
    {
     "data": {
      "text/plain": [
       "(1022119, 62)"
      ]
     },
     "execution_count": 322,
     "metadata": {},
     "output_type": "execute_result"
    }
   ],
   "source": [
    "val = 30057\n",
    "mystery_func(val), mystery_func_prime(val)"
   ]
  },
  {
   "cell_type": "code",
   "execution_count": 461,
   "metadata": {},
   "outputs": [
    {
     "name": "stdout",
     "output_type": "stream",
     "text": [
      "Enter a guess: 0\n",
      "Current value: 1.80e+06, current derivative: -1.87e+04\n",
      "Enter a guess: 1000\n",
      "Current value: 3.21e+07, current derivative: 7.93e+04\n",
      "Enter a guess: 100\n",
      "Current value: 4.14e+05, current derivative: -8.94e+03\n",
      "Enter a guess: 150\n",
      "Current value: 8.92e+04, current derivative: -4.04e+03\n",
      "Enter a guess: 200\n",
      "Current value: 9.50e+03, current derivative: 8.56e+02\n",
      "Enter a guess: 175\n",
      "Current value: 1.87e+04, current derivative: -1.59e+03\n",
      "Enter a guess: 180\n",
      "Current value: 1.20e+04, current derivative: -1.10e+03\n",
      "Enter a guess: 185\n",
      "Current value: 7.69e+03, current derivative: -6.14e+02\n",
      "Enter a guess: 190\n",
      "Current value: 5.84e+03, current derivative: -1.24e+02\n",
      "Enter a guess: 195\n",
      "Current value: 6.45e+03, current derivative: 3.66e+02\n"
     ]
    }
   ],
   "source": [
    "our_minimum, guesses = try_guesses(mystery_func, deriv=mystery_func_prime)"
   ]
  },
  {
   "cell_type": "code",
   "execution_count": 462,
   "metadata": {},
   "outputs": [
    {
     "data": {
      "text/plain": [
       "[<matplotlib.lines.Line2D at 0x102d8ad7d0>]"
      ]
     },
     "execution_count": 462,
     "metadata": {},
     "output_type": "execute_result"
    },
    {
     "data": {
      "image/png": "[encoded data removed]",
      "text/plain": [
       "<Figure size 720x360 with 1 Axes>"
      ]
     },
     "metadata": {
      "needs_background": "light"
     },
     "output_type": "display_data"
    }
   ],
   "source": [
    "fig, ax = plt.subplots(figsize = (10, 5))\n",
    "ax.scatter(guesses, [mystery_func(guess) for guess in guesses])\n",
    "x = np.linspace(np.min(guesses), np.max(guesses))\n",
    "ax.plot(x, mystery_func(x))"
   ]
  },
  {
   "cell_type": "code",
   "execution_count": 463,
   "metadata": {},
   "outputs": [
    {
     "data": {
      "text/plain": [
       "5842.0"
      ]
     },
     "execution_count": 463,
     "metadata": {},
     "output_type": "execute_result"
    }
   ],
   "source": [
    "our_minimum"
   ]
  },
  {
   "cell_type": "code",
   "execution_count": 464,
   "metadata": {},
   "outputs": [
    {
     "name": "stdout",
     "output_type": "stream",
     "text": [
      "Minimum of 5.76e+03 at x = 191.27\n"
     ]
    },
    {
     "data": {
      "text/plain": [
       "(5763.551020408165, 191.2653063306109)"
      ]
     },
     "execution_count": 464,
     "metadata": {},
     "output_type": "execute_result"
    }
   ],
   "source": [
    "get_actual_minimum(mystery_func)"
   ]
  },
  {
   "cell_type": "markdown",
   "metadata": {},
   "source": [
    "This is really getting us somewhere, we can definitely use these results to find the minimum.  \n",
    "\n",
    "So now can we functionalize this process? Make it automatic?"
   ]
  },
  {
   "cell_type": "code",
   "execution_count": 465,
   "metadata": {},
   "outputs": [],
   "source": [
    "def find_minimum(initial_guess, n_iterations, step_size):\n",
    "    current_location = initial_guess\n",
    "    for _ in range(n_iterations):\n",
    "        current_val = mystery_func(current_location)\n",
    "        current_slope = mystery_func_prime(current_location)\n",
    "        if current_slope < 0:\n",
    "            current_location += step_size\n",
    "        elif current_slope > 0:\n",
    "            current_location -= step_size\n",
    "        else:\n",
    "            break\n",
    "    return current_location"
   ]
  },
  {
   "cell_type": "markdown",
   "metadata": {},
   "source": []
  },
  {
   "cell_type": "code",
   "execution_count": 470,
   "metadata": {},
   "outputs": [
    {
     "data": {
      "text/plain": [
       "189"
      ]
     },
     "execution_count": 470,
     "metadata": {},
     "output_type": "execute_result"
    }
   ],
   "source": [
    "initial_guess = np.random.randint(-5000, 5000)\n",
    "find_minimum(initial_guess, 10000, 5)"
   ]
  },
  {
   "cell_type": "markdown",
   "metadata": {},
   "source": [
    "This is getting really good, but we're still limited in precision by the step size. How can we take large enough steps that we get close to the minimum and then smaller steps as we get closer?"
   ]
  },
  {
   "cell_type": "markdown",
   "metadata": {},
   "source": [
    "Maybe we can use the magnitude of the slope to decide how big of a step to take."
   ]
  },
  {
   "cell_type": "code",
   "execution_count": null,
   "metadata": {},
   "outputs": [],
   "source": [
    "def gradient_descent(n_iterations, step_size, alpha = 0.1, initial_guess = 0):\n",
    "    current_location = initial_guess\n",
    "    \n",
    "    for _ in range(n_iterations):\n",
    "        current_val = mystery_func(current_location)\n",
    "        current_slope = mystery_func_prime(current_location)\n",
    "        current_location += alpha * -current_slope\n",
    "    return current_location, guesses"
   ]
  },
  {
   "cell_type": "code",
   "execution_count": null,
   "metadata": {},
   "outputs": [],
   "source": [
    "get_complicated_mystery_function()"
   ]
  },
  {
   "cell_type": "markdown",
   "metadata": {},
   "source": [
    "Okay so you may remember from calculus that we can actually set the derivative to 0 and solve to find the location of minima of a function. And we could certainly do that for these functions, so why is gradient descent useful? Because we will be trying to descend multivariable equations where we can't explicitly solve for the derivative.\n",
    "\n",
    "This is where gradient descent really shines, when we have to use partial derivatives on a multivariable equation."
   ]
  },
  {
   "cell_type": "markdown",
   "metadata": {},
   "source": [
    "Quick Review: what is a partial derivative?\n",
    "\n"
   ]
  },
  {
   "cell_type": "code",
   "execution_count": null,
   "metadata": {},
   "outputs": [],
   "source": []
  },
  {
   "cell_type": "code",
   "execution_count": null,
   "metadata": {},
   "outputs": [],
   "source": []
  },
  {
   "cell_type": "code",
   "execution_count": null,
   "metadata": {},
   "outputs": [],
   "source": []
  },
  {
   "cell_type": "code",
   "execution_count": null,
   "metadata": {},
   "outputs": [],
   "source": []
  },
  {
   "cell_type": "code",
   "execution_count": null,
   "metadata": {},
   "outputs": [],
   "source": []
  }
 ],
 "metadata": {
  "kernelspec": {
   "display_name": "Python 3",
   "language": "python",
   "name": "python3"
  },
  "language_info": {
   "codemirror_mode": {
    "name": "ipython",
    "version": 3
   },
   "file_extension": ".py",
   "mimetype": "text/x-python",
   "name": "python",
   "nbconvert_exporter": "python",
   "pygments_lexer": "ipython3",
   "version": "3.7.6"
  }
 },
 "nbformat": 4,
 "nbformat_minor": 4
}
